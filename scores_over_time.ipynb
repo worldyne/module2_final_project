{
 "cells": [
  {
   "cell_type": "markdown",
   "metadata": {},
   "source": [
    "# Are the average album scores of 2000-2009 different from those of 2010-2017?¶\n",
    "$H_o$: Average song scores are the same in both periods.\n",
    "\n",
    "$H_a$: Average song scores have changed in the more recent period.\n",
    "\n",
    "$\\alpha$: 0.05"
   ]
  },
  {
   "cell_type": "code",
   "execution_count": 1,
   "metadata": {},
   "outputs": [],
   "source": [
    "import psycopg2\n",
    "from sqlalchemy import create_engine\n",
    "import pandas as pd\n",
    "import numpy as np\n",
    "import matplotlib.pyplot as plt\n",
    "import seaborn as sns\n",
    "from statsmodels.stats.weightstats import ztest"
   ]
  },
  {
   "cell_type": "code",
   "execution_count": 2,
   "metadata": {},
   "outputs": [
    {
     "data": {
      "text/plain": [
       "['reviews', 'artists', 'genres', 'labels', 'years', 'content']"
      ]
     },
     "execution_count": 2,
     "metadata": {},
     "output_type": "execute_result"
    }
   ],
   "source": [
    "engine = create_engine('postgres:///music')\n",
    "conn = engine.connect()\n",
    "engine.table_names()"
   ]
  },
  {
   "cell_type": "markdown",
   "metadata": {},
   "source": [
    "# Data Extraction\n",
    "\n",
    "### This time there are only three essential pieces of information we need from each review: album score, album release year, and the review ID to associate them with. "
   ]
  },
  {
   "cell_type": "code",
   "execution_count": 3,
   "metadata": {},
   "outputs": [
    {
     "data": {
      "text/html": [
       "<div>\n",
       "<style scoped>\n",
       "    .dataframe tbody tr th:only-of-type {\n",
       "        vertical-align: middle;\n",
       "    }\n",
       "\n",
       "    .dataframe tbody tr th {\n",
       "        vertical-align: top;\n",
       "    }\n",
       "\n",
       "    .dataframe thead th {\n",
       "        text-align: right;\n",
       "    }\n",
       "</style>\n",
       "<table border=\"1\" class=\"dataframe\">\n",
       "  <thead>\n",
       "    <tr style=\"text-align: right;\">\n",
       "      <th></th>\n",
       "      <th>reviewid</th>\n",
       "      <th>score</th>\n",
       "      <th>year</th>\n",
       "    </tr>\n",
       "  </thead>\n",
       "  <tbody>\n",
       "    <tr>\n",
       "      <th>0</th>\n",
       "      <td>13258</td>\n",
       "      <td>8.2</td>\n",
       "      <td>1959.0</td>\n",
       "    </tr>\n",
       "    <tr>\n",
       "      <th>1</th>\n",
       "      <td>21797</td>\n",
       "      <td>9.0</td>\n",
       "      <td>1960.0</td>\n",
       "    </tr>\n",
       "    <tr>\n",
       "      <th>2</th>\n",
       "      <td>17864</td>\n",
       "      <td>8.3</td>\n",
       "      <td>1960.0</td>\n",
       "    </tr>\n",
       "    <tr>\n",
       "      <th>3</th>\n",
       "      <td>1544</td>\n",
       "      <td>9.4</td>\n",
       "      <td>1960.0</td>\n",
       "    </tr>\n",
       "    <tr>\n",
       "      <th>4</th>\n",
       "      <td>21098</td>\n",
       "      <td>8.6</td>\n",
       "      <td>1962.0</td>\n",
       "    </tr>\n",
       "  </tbody>\n",
       "</table>\n",
       "</div>"
      ],
      "text/plain": [
       "   reviewid  score    year\n",
       "0     13258    8.2  1959.0\n",
       "1     21797    9.0  1960.0\n",
       "2     17864    8.3  1960.0\n",
       "3      1544    9.4  1960.0\n",
       "4     21098    8.6  1962.0"
      ]
     },
     "execution_count": 3,
     "metadata": {},
     "output_type": "execute_result"
    }
   ],
   "source": [
    "query = \"\"\"\n",
    "SELECT\n",
    "    reviews.reviewid,\n",
    "    reviews.score,\n",
    "    years.year\n",
    "FROM reviews\n",
    "FULL OUTER JOIN years ON years.reviewid = reviews.reviewid\n",
    "ORDER BY years.year\n",
    "\"\"\"\n",
    "result = conn.execute(query)\n",
    "df = pd.DataFrame(result.fetchall(), columns=result.keys())\n",
    "df.head()"
   ]
  },
  {
   "cell_type": "markdown",
   "metadata": {},
   "source": [
    "### Splitting the data into two sets: every album released in 2000-2009 and every album released in 2010-2017."
   ]
  },
  {
   "cell_type": "code",
   "execution_count": 4,
   "metadata": {},
   "outputs": [],
   "source": [
    "df = df[df['year'] >= 2000]"
   ]
  },
  {
   "cell_type": "code",
   "execution_count": 5,
   "metadata": {},
   "outputs": [],
   "source": [
    "#2000-2009 to 2010-2017\n",
    "range_1 = df[df['year'] >= 2010] #2010-2017\n",
    "range_2 = df[df['year'] <= 2009] #2000-2009"
   ]
  },
  {
   "cell_type": "code",
   "execution_count": 6,
   "metadata": {},
   "outputs": [
    {
     "data": {
      "text/plain": [
       "(array([2010., 2011., 2012., 2013., 2014., 2015., 2016., 2017.]),\n",
       " array([2000., 2001., 2002., 2003., 2004., 2005., 2006., 2007., 2008.,\n",
       "        2009.]))"
      ]
     },
     "execution_count": 6,
     "metadata": {},
     "output_type": "execute_result"
    }
   ],
   "source": [
    "range_1['year'].unique(), range_2['year'].unique()"
   ]
  },
  {
   "cell_type": "markdown",
   "metadata": {},
   "source": [
    "# Data Investigation"
   ]
  },
  {
   "cell_type": "markdown",
   "metadata": {},
   "source": [
    "### The mean values of these ranges are only slightly different, although our massive sample sizes might still allow us to definitively see a distinction in their distributions."
   ]
  },
  {
   "cell_type": "code",
   "execution_count": 7,
   "metadata": {},
   "outputs": [
    {
     "data": {
      "text/plain": [
       "(7.065059501901666, 6.9611404757064586)"
      ]
     },
     "execution_count": 7,
     "metadata": {},
     "output_type": "execute_result"
    }
   ],
   "source": [
    "range_1['score'].mean(), range_2['score'].mean()"
   ]
  },
  {
   "cell_type": "markdown",
   "metadata": {},
   "source": [
    "### Change in score over time is visually tiny, even on this 2x-zoomed scale."
   ]
  },
  {
   "cell_type": "code",
   "execution_count": 19,
   "metadata": {},
   "outputs": [
    {
     "data": {
      "image/png": "[encoded data removed]",
      "text/plain": [
       "<Figure size 648x648 with 1 Axes>"
      ]
     },
     "metadata": {
      "needs_background": "light"
     },
     "output_type": "display_data"
    }
   ],
   "source": [
    "# Data was previously sorted by album release year during our SQL query\n",
    "year_scores = []\n",
    "years = list(range(2000, 2018))\n",
    "for year in years:\n",
    "    year_data = df[df['year'] <= year]\n",
    "    year_scores.append(year_data['score'].mean())\n",
    "    \n",
    "plt.figure(figsize=(9,9))\n",
    "plt.title('Mean Score of Albums Released Each Year')\n",
    "plt.xlabel('Year')\n",
    "plt.ylabel('Mean Score')\n",
    "plt.ylim(5, 10)\n",
    "sns.lineplot(years, year_scores);"
   ]
  },
  {
   "cell_type": "markdown",
   "metadata": {},
   "source": [
    "### The raw numbers make these changes slightly more apparent, but also reconfirms the obvious: these differences are small."
   ]
  },
  {
   "cell_type": "code",
   "execution_count": 9,
   "metadata": {},
   "outputs": [
    {
     "data": {
      "text/plain": [
       "[7.027272727272724,\n",
       " 7.024906132665827,\n",
       " 6.931501416430574,\n",
       " 6.957209302325574,\n",
       " 7.024264514449359,\n",
       " 7.028633577219705,\n",
       " 7.021530334560591,\n",
       " 6.99375665601706,\n",
       " 6.973391644608156,\n",
       " 6.9611404757064586,\n",
       " 6.9623758768333905,\n",
       " 6.969868779400846,\n",
       " 6.973533393501808,\n",
       " 6.979690949227359,\n",
       " 6.987434420985272,\n",
       " 6.995388190430773,\n",
       " 7.008188792528326,\n",
       " 7.008227249986077]"
      ]
     },
     "execution_count": 9,
     "metadata": {},
     "output_type": "execute_result"
    }
   ],
   "source": [
    "year_scores"
   ]
  },
  {
   "cell_type": "markdown",
   "metadata": {},
   "source": [
    "### There are slightly more noticeable differences between the two broader distributions we're comparing."
   ]
  },
  {
   "cell_type": "code",
   "execution_count": 10,
   "metadata": {},
   "outputs": [
    {
     "name": "stderr",
     "output_type": "stream",
     "text": [
      "/Users/flatironschool/anaconda3/lib/python3.7/site-packages/scipy/stats/stats.py:1713: FutureWarning: Using a non-tuple sequence for multidimensional indexing is deprecated; use `arr[tuple(seq)]` instead of `arr[seq]`. In the future this will be interpreted as an array index, `arr[np.array(seq)]`, which will result either in an error or a different result.\n",
      "  return np.add.reduce(sorted[indexer] * weights, axis=axis) / sumval\n"
     ]
    },
    {
     "data": {
      "image/png": "[encoded data removed]",
      "text/plain": [
       "<Figure size 864x720 with 1 Axes>"
      ]
     },
     "metadata": {
      "needs_background": "light"
     },
     "output_type": "display_data"
    }
   ],
   "source": [
    "plt.figure(figsize=(12, 10))\n",
    "plt.title('Score Distributions: 2000s vs 2010s')\n",
    "sns.distplot(range_1['score'], label='2000s')\n",
    "sns.distplot(range_2['score'], label='2010s')\n",
    "plt.xlabel('Score')\n",
    "plt.ylabel('Frequency of Score')\n",
    "plt.legend();"
   ]
  },
  {
   "cell_type": "markdown",
   "metadata": {},
   "source": [
    "### Rate of change in score year-over-year."
   ]
  },
  {
   "cell_type": "code",
   "execution_count": 11,
   "metadata": {},
   "outputs": [
    {
     "data": {
      "image/png": "[encoded data removed]",
      "text/plain": [
       "<Figure size 648x648 with 1 Axes>"
      ]
     },
     "metadata": {
      "needs_background": "light"
     },
     "output_type": "display_data"
    }
   ],
   "source": [
    "yoy_changes = []\n",
    "for i in range(len(year_scores) - 1):\n",
    "    yoy_change = 1 - (year_scores[i+1] / year_scores[i])\n",
    "    yoy_changes.append(yoy_change)\n",
    "    \n",
    "plt.figure(figsize=(9,9))\n",
    "plt.title('% Change in Mean Score (YoY)')\n",
    "plt.xlabel('Year')\n",
    "plt.ylabel('% Change')\n",
    "plt.ylim(-0.05, 0.05)\n",
    "sns.barplot(years[1:], yoy_changes);"
   ]
  },
  {
   "cell_type": "markdown",
   "metadata": {},
   "source": [
    "### Checking sample sizes, means, and standard deviations."
   ]
  },
  {
   "cell_type": "code",
   "execution_count": 12,
   "metadata": {},
   "outputs": [
    {
     "data": {
      "text/plain": [
       "(8151, 9838)"
      ]
     },
     "execution_count": 12,
     "metadata": {},
     "output_type": "execute_result"
    }
   ],
   "source": [
    "len(range_1), len(range_2)"
   ]
  },
  {
   "cell_type": "code",
   "execution_count": 13,
   "metadata": {},
   "outputs": [
    {
     "data": {
      "text/plain": [
       "(7.065059501901666, 6.9611404757064586)"
      ]
     },
     "execution_count": 13,
     "metadata": {},
     "output_type": "execute_result"
    }
   ],
   "source": [
    "range_1['score'].mean(), range_2['score'].mean()"
   ]
  },
  {
   "cell_type": "code",
   "execution_count": 14,
   "metadata": {},
   "outputs": [
    {
     "data": {
      "text/plain": [
       "(1.077328492386676, 1.4230652729780706)"
      ]
     },
     "execution_count": 14,
     "metadata": {},
     "output_type": "execute_result"
    }
   ],
   "source": [
    "range_1['score'].std(), range_2['score'].std()"
   ]
  },
  {
   "cell_type": "markdown",
   "metadata": {},
   "source": [
    "# What is the p-value for our two different sets?"
   ]
  },
  {
   "cell_type": "code",
   "execution_count": 15,
   "metadata": {},
   "outputs": [
    {
     "data": {
      "text/plain": [
       "'Z-statistic is 5.4287780851588 and p-value is 5.67411827977542e-08.'"
      ]
     },
     "execution_count": 15,
     "metadata": {},
     "output_type": "execute_result"
    }
   ],
   "source": [
    "z, p_value = ztest(range_1['score'], range_2['score'])\n",
    "f'Z-statistic is {z} and p-value is {p_value}.'"
   ]
  },
  {
   "cell_type": "markdown",
   "metadata": {},
   "source": [
    "### Suspiciously small--how could we be so confident that two things so similar *are* in fact different? \n",
    "\n",
    "### It may only be due to our large sample sizes. Lets test this theory by running z-tests on smaller samples of our data."
   ]
  },
  {
   "cell_type": "code",
   "execution_count": 21,
   "metadata": {},
   "outputs": [],
   "source": [
    "np.random.seed(25565)"
   ]
  },
  {
   "cell_type": "code",
   "execution_count": 22,
   "metadata": {},
   "outputs": [
    {
     "data": {
      "text/plain": [
       "'Z-statistic is 2.933448434400435 and p-value is 0.0033521933301589963.'"
      ]
     },
     "execution_count": 22,
     "metadata": {},
     "output_type": "execute_result"
    }
   ],
   "source": [
    "sample_1 = np.random.choice(range_1['score'], 1000)\n",
    "sample_2 = np.random.choice(range_2['score'], 1000)\n",
    "\n",
    "z, p_value = ztest(sample_1, sample_2)\n",
    "f'Z-statistic is {z} and p-value is {p_value}.'"
   ]
  },
  {
   "cell_type": "code",
   "execution_count": 23,
   "metadata": {},
   "outputs": [
    {
     "data": {
      "text/plain": [
       "'Z-statistic is 1.5269829209030545 and p-value is 0.12676525836995117.'"
      ]
     },
     "execution_count": 23,
     "metadata": {},
     "output_type": "execute_result"
    }
   ],
   "source": [
    "sample_1 = np.random.choice(range_1['score'], 100)\n",
    "sample_2 = np.random.choice(range_2['score'], 100)\n",
    "\n",
    "z, p_value = ztest(sample_1, sample_2)\n",
    "f'Z-statistic is {z} and p-value is {p_value}.'"
   ]
  },
  {
   "cell_type": "code",
   "execution_count": 24,
   "metadata": {},
   "outputs": [
    {
     "data": {
      "text/plain": [
       "'Z-statistic is 0.5654802992331465 and p-value is 0.5717471205566864.'"
      ]
     },
     "execution_count": 24,
     "metadata": {},
     "output_type": "execute_result"
    }
   ],
   "source": [
    "sample_1 = np.random.choice(range_1['score'], 10)\n",
    "sample_2 = np.random.choice(range_2['score'], 10)\n",
    "\n",
    "z, p_value = ztest(sample_1, sample_2)\n",
    "f'Z-statistic is {z} and p-value is {p_value}.'"
   ]
  },
  {
   "cell_type": "markdown",
   "metadata": {},
   "source": [
    "### The sample size seems to be making all the difference in the world here. Although the change in scores over time is extremely subtle, we can say with confidence that it is statistically significant."
   ]
  },
  {
   "cell_type": "markdown",
   "metadata": {},
   "source": [
    "# Conclusion\n",
    "\n",
    "### Our p-value is well below our alpha of 0.05, so we can confidently *reject* our null hypothesis. The difference in mean score between the two time periods is small, but statistically significant."
   ]
  }
 ],
 "metadata": {
  "kernelspec": {
   "display_name": "Python 3",
   "language": "python",
   "name": "python3"
  },
  "language_info": {
   "codemirror_mode": {
    "name": "ipython",
    "version": 3
   },
   "file_extension": ".py",
   "mimetype": "text/x-python",
   "name": "python",
   "nbconvert_exporter": "python",
   "pygments_lexer": "ipython3",
   "version": "3.7.1"
  }
 },
 "nbformat": 4,
 "nbformat_minor": 2
}
