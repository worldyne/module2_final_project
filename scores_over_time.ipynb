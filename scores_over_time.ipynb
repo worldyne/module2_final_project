{
 "cells": [
  {
   "cell_type": "code",
   "execution_count": 24,
   "metadata": {},
   "outputs": [],
   "source": [
    "import psycopg2\n",
    "from sqlalchemy import create_engine\n",
    "import pandas as pd\n",
    "import matplotlib.pyplot as plt\n",
    "import seaborn as sns"
   ]
  },
  {
   "cell_type": "code",
   "execution_count": 2,
   "metadata": {},
   "outputs": [
    {
     "data": {
      "text/plain": [
       "['reviews', 'artists', 'genres', 'labels', 'years', 'content']"
      ]
     },
     "execution_count": 2,
     "metadata": {},
     "output_type": "execute_result"
    }
   ],
   "source": [
    "engine = create_engine('postgres:///music')\n",
    "conn = engine.connect()\n",
    "engine.table_names()"
   ]
  },
  {
   "cell_type": "code",
   "execution_count": 3,
   "metadata": {},
   "outputs": [],
   "source": [
    "def postgres_to_df(table_name):\n",
    "    result = conn.execute(f'SELECT * FROM {table_name}')\n",
    "    columns = [x for x in result.keys()]\n",
    "    df = pd.DataFrame(result.fetchall(), columns=columns)\n",
    "    return df"
   ]
  },
  {
   "cell_type": "code",
   "execution_count": 5,
   "metadata": {},
   "outputs": [
    {
     "name": "stdout",
     "output_type": "stream",
     "text": [
      "<class 'pandas.core.frame.DataFrame'>\n",
      "RangeIndex: 18393 entries, 0 to 18392\n",
      "Data columns (total 13 columns):\n",
      "reviewid          18393 non-null int64\n",
      "title             18393 non-null object\n",
      "artist            18393 non-null object\n",
      "url               18393 non-null object\n",
      "score             18393 non-null float64\n",
      "best_new_music    18393 non-null int64\n",
      "author            18393 non-null object\n",
      "author_type       14487 non-null object\n",
      "pub_date          18393 non-null object\n",
      "pub_weekday       18393 non-null int64\n",
      "pub_day           18393 non-null int64\n",
      "pub_month         18393 non-null int64\n",
      "pub_year          18393 non-null int64\n",
      "dtypes: float64(1), int64(6), object(6)\n",
      "memory usage: 1.8+ MB\n"
     ]
    }
   ],
   "source": [
    "df = postgres_to_df('reviews')\n",
    "df.info()"
   ]
  },
  {
   "cell_type": "code",
   "execution_count": 7,
   "metadata": {},
   "outputs": [],
   "source": [
    "df = df[df['pub_year'] >= 2000]"
   ]
  },
  {
   "cell_type": "code",
   "execution_count": 8,
   "metadata": {},
   "outputs": [],
   "source": [
    "#2000-2009 to 2010-2017\n",
    "range_1 = df[df['pub_year'] >= 2010] #2010-2017\n",
    "range_2 = df[df['pub_year'] <= 2009] #2000-2009"
   ]
  },
  {
   "cell_type": "code",
   "execution_count": 10,
   "metadata": {},
   "outputs": [
    {
     "data": {
      "text/plain": [
       "(array([2017, 2016, 2015, 2014, 2013, 2012, 2011, 2010]),\n",
       " array([2009, 2008, 2007, 2006, 2005, 2004, 2003, 2002, 2001, 2000]))"
      ]
     },
     "execution_count": 10,
     "metadata": {},
     "output_type": "execute_result"
    }
   ],
   "source": [
    "range_1['pub_year'].unique(), range_2['pub_year'].unique()"
   ]
  },
  {
   "cell_type": "code",
   "execution_count": 11,
   "metadata": {},
   "outputs": [
    {
     "data": {
      "text/plain": [
       "(7.07467164718643, 6.9509370884409565)"
      ]
     },
     "execution_count": 11,
     "metadata": {},
     "output_type": "execute_result"
    }
   ],
   "source": [
    "range_1['score'].mean(), range_2['score'].mean()"
   ]
  },
  {
   "cell_type": "code",
   "execution_count": 26,
   "metadata": {},
   "outputs": [
    {
     "data": {
      "image/png": "[encoded data removed]",
      "text/plain": [
       "<Figure size 648x648 with 1 Axes>"
      ]
     },
     "metadata": {
      "needs_background": "light"
     },
     "output_type": "display_data"
    }
   ],
   "source": [
    "# data is already sorted by pub_date\n",
    "year_scores = []\n",
    "years = list(range(2000, 2018))\n",
    "for year in years:\n",
    "    year_data = df[df['pub_year'] <= year]\n",
    "    year_scores.append(year_data['score'].mean())\n",
    "    \n",
    "plt.figure(figsize=(9,9))\n",
    "plt.ylim(0, 10)\n",
    "sns.barplot(years, year_scores);"
   ]
  },
  {
   "cell_type": "code",
   "execution_count": 35,
   "metadata": {},
   "outputs": [
    {
     "name": "stdout",
     "output_type": "stream",
     "text": [
      "[-0.028452045071646337, 0.012478919615331208, -0.0023504444740483077, -0.011673632361121289, -0.0016972948816449396, 0.0007501088175877468, 0.0027086282390018646, 0.0020249947196205875, 0.0025162155746537573, -0.00033101190193551844, -0.0011544291156941888, -0.0006458070244323988, -0.0009965552520969645, -0.0011563978058066748, -0.0012107020491984866, -0.0025611001557510615, -4.774614078550954e-05]\n"
     ]
    },
    {
     "data": {
      "image/png": "[encoded data removed]",
      "text/plain": [
       "<Figure size 648x648 with 1 Axes>"
      ]
     },
     "metadata": {
      "needs_background": "light"
     },
     "output_type": "display_data"
    }
   ],
   "source": [
    "yoy_changes = []\n",
    "for i in range(len(year_scores) - 1):\n",
    "    yoy_change = 1 - (year_scores[i+1] / year_scores[i])\n",
    "    yoy_changes.append(yoy_change)\n",
    "    \n",
    "plt.figure(figsize=(9,9))\n",
    "plt.ylim(-0.05, 0.05)\n",
    "print(yoy_changes)\n",
    "sns.barplot(years[1:], yoy_changes);"
   ]
  },
  {
   "cell_type": "code",
   "execution_count": null,
   "metadata": {},
   "outputs": [],
   "source": []
  }
 ],
 "metadata": {
  "kernelspec": {
   "display_name": "Python 3",
   "language": "python",
   "name": "python3"
  },
  "language_info": {
   "codemirror_mode": {
    "name": "ipython",
    "version": 3
   },
   "file_extension": ".py",
   "mimetype": "text/x-python",
   "name": "python",
   "nbconvert_exporter": "python",
   "pygments_lexer": "ipython3",
   "version": "3.7.1"
  }
 },
 "nbformat": 4,
 "nbformat_minor": 2
}
