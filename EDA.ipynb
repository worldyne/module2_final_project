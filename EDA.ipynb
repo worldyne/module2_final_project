{
 "cells": [
  {
   "cell_type": "markdown",
   "metadata": {},
   "source": [
    "# Data Exploration\n",
    "\n",
    "Here we perform some preliminary data analyses and formulate our questions and hypotheses at the end."
   ]
  },
  {
   "cell_type": "code",
   "execution_count": 1,
   "metadata": {},
   "outputs": [],
   "source": [
    "import psycopg2\n",
    "from sqlalchemy import create_engine\n",
    "import pandas as pd\n",
    "import numpy as np\n",
    "import seaborn as sns\n",
    "import matplotlib.pyplot as plt\n",
    "%matplotlib inline\n",
    "plt.style.use('ggplot')\n",
    "from vaderSentiment import vaderSentiment"
   ]
  },
  {
   "cell_type": "markdown",
   "metadata": {},
   "source": [
    "### What tables are in our database?"
   ]
  },
  {
   "cell_type": "code",
   "execution_count": 2,
   "metadata": {},
   "outputs": [
    {
     "data": {
      "text/plain": [
       "['reviews', 'artists', 'genres', 'labels', 'years', 'content']"
      ]
     },
     "execution_count": 2,
     "metadata": {},
     "output_type": "execute_result"
    }
   ],
   "source": [
    "db_path = 'postgres:///music'\n",
    "engine = create_engine(db_path)\n",
    "\n",
    "table_names = engine.table_names()\n",
    "table_names"
   ]
  },
  {
   "cell_type": "code",
   "execution_count": 3,
   "metadata": {},
   "outputs": [],
   "source": [
    "def postgres_to_df(table):\n",
    "    \"\"\"Return a Pandas DataFrame generated from an PostgreSQL table.\"\"\"\n",
    "    engine = create_engine(db_path)\n",
    "    conn = engine.connect()\n",
    "    result = conn.execute(f'SELECT * FROM {table}')\n",
    "    columns = [x for x in result.keys()]\n",
    "    df = pd.DataFrame(result.fetchall(),columns=columns)\n",
    "    return df"
   ]
  },
  {
   "cell_type": "markdown",
   "metadata": {},
   "source": [
    "### What information is available in these tables for further analysis?"
   ]
  },
  {
   "cell_type": "code",
   "execution_count": 4,
   "metadata": {},
   "outputs": [
    {
     "name": "stdout",
     "output_type": "stream",
     "text": [
      "REVIEWS\n",
      "Index(['reviewid', 'title', 'artist', 'url', 'score', 'best_new_music',\n",
      "       'author', 'author_type', 'pub_date', 'pub_weekday', 'pub_day',\n",
      "       'pub_month', 'pub_year'],\n",
      "      dtype='object')\n",
      "\n",
      "\n",
      "ARTISTS\n",
      "Index(['reviewid', 'artist'], dtype='object')\n",
      "\n",
      "\n",
      "GENRES\n",
      "Index(['reviewid', 'genre'], dtype='object')\n",
      "\n",
      "\n",
      "LABELS\n",
      "Index(['reviewid', 'label'], dtype='object')\n",
      "\n",
      "\n",
      "YEARS\n",
      "Index(['reviewid', 'year'], dtype='object')\n",
      "\n",
      "\n",
      "CONTENT\n",
      "Index(['reviewid', 'content'], dtype='object')\n",
      "\n",
      "\n"
     ]
    }
   ],
   "source": [
    "for table_name in table_names:\n",
    "    print(table_name.upper(), postgres_to_df(table_name).columns, '\\n', sep='\\n')"
   ]
  },
  {
   "cell_type": "code",
   "execution_count": 5,
   "metadata": {},
   "outputs": [
    {
     "data": {
      "text/html": [
       "<div>\n",
       "<style scoped>\n",
       "    .dataframe tbody tr th:only-of-type {\n",
       "        vertical-align: middle;\n",
       "    }\n",
       "\n",
       "    .dataframe tbody tr th {\n",
       "        vertical-align: top;\n",
       "    }\n",
       "\n",
       "    .dataframe thead th {\n",
       "        text-align: right;\n",
       "    }\n",
       "</style>\n",
       "<table border=\"1\" class=\"dataframe\">\n",
       "  <thead>\n",
       "    <tr style=\"text-align: right;\">\n",
       "      <th></th>\n",
       "      <th>reviewid</th>\n",
       "      <th>title</th>\n",
       "      <th>artist</th>\n",
       "      <th>url</th>\n",
       "      <th>score</th>\n",
       "      <th>best_new_music</th>\n",
       "      <th>author</th>\n",
       "      <th>author_type</th>\n",
       "      <th>pub_date</th>\n",
       "      <th>pub_weekday</th>\n",
       "      <th>pub_day</th>\n",
       "      <th>pub_month</th>\n",
       "      <th>pub_year</th>\n",
       "    </tr>\n",
       "  </thead>\n",
       "  <tbody>\n",
       "    <tr>\n",
       "      <th>0</th>\n",
       "      <td>22703</td>\n",
       "      <td>mezzanine</td>\n",
       "      <td>massive attack</td>\n",
       "      <td>http://pitchfork.com/reviews/albums/22703-mezz...</td>\n",
       "      <td>9.3</td>\n",
       "      <td>0</td>\n",
       "      <td>nate patrin</td>\n",
       "      <td>contributor</td>\n",
       "      <td>2017-01-08</td>\n",
       "      <td>6</td>\n",
       "      <td>8</td>\n",
       "      <td>1</td>\n",
       "      <td>2017</td>\n",
       "    </tr>\n",
       "    <tr>\n",
       "      <th>1</th>\n",
       "      <td>22721</td>\n",
       "      <td>prelapsarian</td>\n",
       "      <td>krallice</td>\n",
       "      <td>http://pitchfork.com/reviews/albums/22721-prel...</td>\n",
       "      <td>7.9</td>\n",
       "      <td>0</td>\n",
       "      <td>zoe camp</td>\n",
       "      <td>contributor</td>\n",
       "      <td>2017-01-07</td>\n",
       "      <td>5</td>\n",
       "      <td>7</td>\n",
       "      <td>1</td>\n",
       "      <td>2017</td>\n",
       "    </tr>\n",
       "    <tr>\n",
       "      <th>2</th>\n",
       "      <td>22659</td>\n",
       "      <td>all of them naturals</td>\n",
       "      <td>uranium club</td>\n",
       "      <td>http://pitchfork.com/reviews/albums/22659-all-...</td>\n",
       "      <td>7.3</td>\n",
       "      <td>0</td>\n",
       "      <td>david glickman</td>\n",
       "      <td>contributor</td>\n",
       "      <td>2017-01-07</td>\n",
       "      <td>5</td>\n",
       "      <td>7</td>\n",
       "      <td>1</td>\n",
       "      <td>2017</td>\n",
       "    </tr>\n",
       "    <tr>\n",
       "      <th>3</th>\n",
       "      <td>22661</td>\n",
       "      <td>first songs</td>\n",
       "      <td>kleenex, liliput</td>\n",
       "      <td>http://pitchfork.com/reviews/albums/22661-firs...</td>\n",
       "      <td>9.0</td>\n",
       "      <td>1</td>\n",
       "      <td>jenn pelly</td>\n",
       "      <td>associate reviews editor</td>\n",
       "      <td>2017-01-06</td>\n",
       "      <td>4</td>\n",
       "      <td>6</td>\n",
       "      <td>1</td>\n",
       "      <td>2017</td>\n",
       "    </tr>\n",
       "    <tr>\n",
       "      <th>4</th>\n",
       "      <td>22725</td>\n",
       "      <td>new start</td>\n",
       "      <td>taso</td>\n",
       "      <td>http://pitchfork.com/reviews/albums/22725-new-...</td>\n",
       "      <td>8.1</td>\n",
       "      <td>0</td>\n",
       "      <td>kevin lozano</td>\n",
       "      <td>tracks coordinator</td>\n",
       "      <td>2017-01-06</td>\n",
       "      <td>4</td>\n",
       "      <td>6</td>\n",
       "      <td>1</td>\n",
       "      <td>2017</td>\n",
       "    </tr>\n",
       "  </tbody>\n",
       "</table>\n",
       "</div>"
      ],
      "text/plain": [
       "   reviewid                 title            artist  \\\n",
       "0     22703             mezzanine    massive attack   \n",
       "1     22721          prelapsarian          krallice   \n",
       "2     22659  all of them naturals      uranium club   \n",
       "3     22661           first songs  kleenex, liliput   \n",
       "4     22725             new start              taso   \n",
       "\n",
       "                                                 url  score  best_new_music  \\\n",
       "0  http://pitchfork.com/reviews/albums/22703-mezz...    9.3               0   \n",
       "1  http://pitchfork.com/reviews/albums/22721-prel...    7.9               0   \n",
       "2  http://pitchfork.com/reviews/albums/22659-all-...    7.3               0   \n",
       "3  http://pitchfork.com/reviews/albums/22661-firs...    9.0               1   \n",
       "4  http://pitchfork.com/reviews/albums/22725-new-...    8.1               0   \n",
       "\n",
       "           author               author_type    pub_date  pub_weekday  pub_day  \\\n",
       "0     nate patrin               contributor  2017-01-08            6        8   \n",
       "1        zoe camp               contributor  2017-01-07            5        7   \n",
       "2  david glickman               contributor  2017-01-07            5        7   \n",
       "3      jenn pelly  associate reviews editor  2017-01-06            4        6   \n",
       "4    kevin lozano        tracks coordinator  2017-01-06            4        6   \n",
       "\n",
       "   pub_month  pub_year  \n",
       "0          1      2017  \n",
       "1          1      2017  \n",
       "2          1      2017  \n",
       "3          1      2017  \n",
       "4          1      2017  "
      ]
     },
     "execution_count": 5,
     "metadata": {},
     "output_type": "execute_result"
    }
   ],
   "source": [
    "reviews = postgres_to_df('reviews')\n",
    "reviews.head()"
   ]
  },
  {
   "cell_type": "markdown",
   "metadata": {},
   "source": [
    "### Lets dig in and ask a few questions."
   ]
  },
  {
   "cell_type": "code",
   "execution_count": 6,
   "metadata": {},
   "outputs": [
    {
     "data": {
      "text/plain": [
       "(18393, 8715)"
      ]
     },
     "execution_count": 6,
     "metadata": {},
     "output_type": "execute_result"
    }
   ],
   "source": [
    "len(reviews), reviews['artist'].nunique()"
   ]
  },
  {
   "cell_type": "code",
   "execution_count": 7,
   "metadata": {},
   "outputs": [
    {
     "data": {
      "text/plain": [
       "(20190, 3667)"
      ]
     },
     "execution_count": 7,
     "metadata": {},
     "output_type": "execute_result"
    }
   ],
   "source": [
    "labels = postgres_to_df('labels')\n",
    "len(labels), labels['label'].nunique()"
   ]
  },
  {
   "cell_type": "code",
   "execution_count": 8,
   "metadata": {},
   "outputs": [
    {
     "data": {
      "text/html": [
       "<div>\n",
       "<style scoped>\n",
       "    .dataframe tbody tr th:only-of-type {\n",
       "        vertical-align: middle;\n",
       "    }\n",
       "\n",
       "    .dataframe tbody tr th {\n",
       "        vertical-align: top;\n",
       "    }\n",
       "\n",
       "    .dataframe thead th {\n",
       "        text-align: right;\n",
       "    }\n",
       "</style>\n",
       "<table border=\"1\" class=\"dataframe\">\n",
       "  <thead>\n",
       "    <tr style=\"text-align: right;\">\n",
       "      <th></th>\n",
       "      <th>score</th>\n",
       "      <th>reviewid</th>\n",
       "      <th>pub_year</th>\n",
       "      <th>content</th>\n",
       "    </tr>\n",
       "  </thead>\n",
       "  <tbody>\n",
       "    <tr>\n",
       "      <th>0</th>\n",
       "      <td>5.5</td>\n",
       "      <td>3183</td>\n",
       "      <td>1999</td>\n",
       "      <td>By all rights, when a critical assessment of t...</td>\n",
       "    </tr>\n",
       "    <tr>\n",
       "      <th>1</th>\n",
       "      <td>9.0</td>\n",
       "      <td>5041</td>\n",
       "      <td>1999</td>\n",
       "      <td>There's only one question that really needs to...</td>\n",
       "    </tr>\n",
       "    <tr>\n",
       "      <th>2</th>\n",
       "      <td>6.0</td>\n",
       "      <td>8718</td>\n",
       "      <td>1999</td>\n",
       "      <td>Miles Duchamp\\n    43-A Pettybone Way\\n    Ess...</td>\n",
       "    </tr>\n",
       "    <tr>\n",
       "      <th>3</th>\n",
       "      <td>6.3</td>\n",
       "      <td>4718</td>\n",
       "      <td>1999</td>\n",
       "      <td>Leftfield are surely dance music's most reluct...</td>\n",
       "    </tr>\n",
       "    <tr>\n",
       "      <th>4</th>\n",
       "      <td>3.8</td>\n",
       "      <td>5383</td>\n",
       "      <td>1999</td>\n",
       "      <td>Marilyn Vos Savant may have the highest record...</td>\n",
       "    </tr>\n",
       "  </tbody>\n",
       "</table>\n",
       "</div>"
      ],
      "text/plain": [
       "   score  reviewid  pub_year  \\\n",
       "0    5.5      3183      1999   \n",
       "1    9.0      5041      1999   \n",
       "2    6.0      8718      1999   \n",
       "3    6.3      4718      1999   \n",
       "4    3.8      5383      1999   \n",
       "\n",
       "                                             content  \n",
       "0  By all rights, when a critical assessment of t...  \n",
       "1  There's only one question that really needs to...  \n",
       "2  Miles Duchamp\\n    43-A Pettybone Way\\n    Ess...  \n",
       "3  Leftfield are surely dance music's most reluct...  \n",
       "4  Marilyn Vos Savant may have the highest record...  "
      ]
     },
     "execution_count": 8,
     "metadata": {},
     "output_type": "execute_result"
    }
   ],
   "source": [
    "content = postgres_to_df('content')\n",
    "content.head() \n",
    "\n",
    "query = \"\"\"\n",
    "SELECT\n",
    "    reviews.score,\n",
    "    reviews.reviewid,\n",
    "    reviews.pub_year,\n",
    "    content.content\n",
    "FROM reviews \n",
    "FULL OUTER JOIN content ON reviews.reviewid = content.reviewid\n",
    "ORDER BY reviews.pub_year\n",
    "\"\"\"\n",
    "engine = create_engine(db_path)\n",
    "conn = engine.connect()\n",
    "result = conn.execute(query)\n",
    "content = pd.DataFrame(result.fetchall(), columns=result.keys())\n",
    "content.head()"
   ]
  },
  {
   "cell_type": "code",
   "execution_count": 9,
   "metadata": {},
   "outputs": [
    {
     "data": {
      "text/plain": [
       "\"By all rights, when a critical assessment of this musical decade is made,\\n    the influence of country on its more popular cousin, rock, will have to be\\n    reckoned with.  Sure, country- rock rambled about long before the '90s\\n    first messed its pants, and certainly the Eagles enjoyed more fame a\""
      ]
     },
     "execution_count": 9,
     "metadata": {},
     "output_type": "execute_result"
    }
   ],
   "source": [
    "content['content'][0][:300]"
   ]
  },
  {
   "cell_type": "code",
   "execution_count": 10,
   "metadata": {},
   "outputs": [
    {
     "data": {
      "text/plain": [
       "(100, list)"
      ]
     },
     "execution_count": 10,
     "metadata": {},
     "output_type": "execute_result"
    }
   ],
   "source": [
    "sent_analyzer = vaderSentiment.SentimentIntensityAnalyzer()\n",
    "sentiments = [sent_analyzer.polarity_scores(text)['compound'] for text in content['content'][:100]]\n",
    "len(sentiments), type(sentiments)"
   ]
  },
  {
   "cell_type": "code",
   "execution_count": 11,
   "metadata": {},
   "outputs": [
    {
     "data": {
      "text/plain": [
       "[0.9969,\n",
       " 0.9964,\n",
       " 0.9989,\n",
       " -0.8316,\n",
       " 0.9545,\n",
       " 0.9723,\n",
       " 0.9934,\n",
       " 0.9927,\n",
       " 0.9988,\n",
       " 0.7084]"
      ]
     },
     "execution_count": 11,
     "metadata": {},
     "output_type": "execute_result"
    }
   ],
   "source": [
    "sentiments[:10]"
   ]
  },
  {
   "cell_type": "markdown",
   "metadata": {},
   "source": [
    "### How do review score and review sentiment correlate? Apparently quite poorly, most likely due to use of flavorful and descriptive language."
   ]
  },
  {
   "cell_type": "code",
   "execution_count": 12,
   "metadata": {},
   "outputs": [
    {
     "data": {
      "image/png": "[encoded data removed]",
      "text/plain": [
       "<Figure size 432x288 with 1 Axes>"
      ]
     },
     "metadata": {
      "needs_background": "light"
     },
     "output_type": "display_data"
    }
   ],
   "source": [
    "plt.scatter(content['score'][:100], sentiments, alpha=0.5);"
   ]
  },
  {
   "cell_type": "code",
   "execution_count": 13,
   "metadata": {},
   "outputs": [
    {
     "data": {
      "text/html": [
       "<div>\n",
       "<style scoped>\n",
       "    .dataframe tbody tr th:only-of-type {\n",
       "        vertical-align: middle;\n",
       "    }\n",
       "\n",
       "    .dataframe tbody tr th {\n",
       "        vertical-align: top;\n",
       "    }\n",
       "\n",
       "    .dataframe thead th {\n",
       "        text-align: right;\n",
       "    }\n",
       "</style>\n",
       "<table border=\"1\" class=\"dataframe\">\n",
       "  <thead>\n",
       "    <tr style=\"text-align: right;\">\n",
       "      <th></th>\n",
       "      <th>score</th>\n",
       "      <th>reviewid</th>\n",
       "      <th>pub_year</th>\n",
       "      <th>year</th>\n",
       "    </tr>\n",
       "  </thead>\n",
       "  <tbody>\n",
       "    <tr>\n",
       "      <th>0</th>\n",
       "      <td>8.2</td>\n",
       "      <td>13258</td>\n",
       "      <td>2009</td>\n",
       "      <td>1959.0</td>\n",
       "    </tr>\n",
       "    <tr>\n",
       "      <th>1</th>\n",
       "      <td>9.0</td>\n",
       "      <td>21797</td>\n",
       "      <td>2016</td>\n",
       "      <td>1960.0</td>\n",
       "    </tr>\n",
       "    <tr>\n",
       "      <th>2</th>\n",
       "      <td>8.3</td>\n",
       "      <td>17864</td>\n",
       "      <td>2013</td>\n",
       "      <td>1960.0</td>\n",
       "    </tr>\n",
       "    <tr>\n",
       "      <th>3</th>\n",
       "      <td>9.4</td>\n",
       "      <td>1544</td>\n",
       "      <td>2002</td>\n",
       "      <td>1960.0</td>\n",
       "    </tr>\n",
       "    <tr>\n",
       "      <th>4</th>\n",
       "      <td>8.6</td>\n",
       "      <td>21098</td>\n",
       "      <td>2015</td>\n",
       "      <td>1962.0</td>\n",
       "    </tr>\n",
       "  </tbody>\n",
       "</table>\n",
       "</div>"
      ],
      "text/plain": [
       "   score  reviewid  pub_year    year\n",
       "0    8.2     13258      2009  1959.0\n",
       "1    9.0     21797      2016  1960.0\n",
       "2    8.3     17864      2013  1960.0\n",
       "3    9.4      1544      2002  1960.0\n",
       "4    8.6     21098      2015  1962.0"
      ]
     },
     "execution_count": 13,
     "metadata": {},
     "output_type": "execute_result"
    }
   ],
   "source": [
    "query = \"\"\"\n",
    "SELECT\n",
    "    reviews.score,\n",
    "    reviews.reviewid,\n",
    "    reviews.pub_year,\n",
    "    years.year\n",
    "FROM reviews \n",
    "FULL OUTER JOIN years ON reviews.reviewid = years.reviewid\n",
    "ORDER BY years.year\n",
    "\"\"\"\n",
    "engine = create_engine(db_path)\n",
    "conn = engine.connect()\n",
    "result = conn.execute(query)\n",
    "df = pd.DataFrame(result.fetchall(), columns=result.keys())\n",
    "df.head()"
   ]
  },
  {
   "cell_type": "code",
   "execution_count": 14,
   "metadata": {},
   "outputs": [
    {
     "name": "stdout",
     "output_type": "stream",
     "text": [
      "<class 'pandas.core.frame.DataFrame'>\n",
      "RangeIndex: 19116 entries, 0 to 19115\n",
      "Data columns (total 4 columns):\n",
      "score       19116 non-null float64\n",
      "reviewid    19116 non-null int64\n",
      "pub_year    19116 non-null int64\n",
      "year        18710 non-null float64\n",
      "dtypes: float64(2), int64(2)\n",
      "memory usage: 597.5 KB\n"
     ]
    }
   ],
   "source": [
    "df.info()"
   ]
  },
  {
   "cell_type": "code",
   "execution_count": 15,
   "metadata": {},
   "outputs": [],
   "source": [
    "df.dropna(inplace=True)"
   ]
  },
  {
   "cell_type": "code",
   "execution_count": 16,
   "metadata": {},
   "outputs": [
    {
     "name": "stderr",
     "output_type": "stream",
     "text": [
      "/Users/flatironschool/anaconda3/lib/python3.7/site-packages/scipy/stats/stats.py:1713: FutureWarning: Using a non-tuple sequence for multidimensional indexing is deprecated; use `arr[tuple(seq)]` instead of `arr[seq]`. In the future this will be interpreted as an array index, `arr[np.array(seq)]`, which will result either in an error or a different result.\n",
      "  return np.add.reduce(sorted[indexer] * weights, axis=axis) / sumval\n"
     ]
    },
    {
     "data": {
      "image/png": "[encoded data removed]",
      "text/plain": [
       "<Figure size 432x288 with 1 Axes>"
      ]
     },
     "metadata": {
      "needs_background": "light"
     },
     "output_type": "display_data"
    }
   ],
   "source": [
    "sns.kdeplot(df['score'], df['year'], shade=True);"
   ]
  },
  {
   "cell_type": "code",
   "execution_count": 17,
   "metadata": {},
   "outputs": [
    {
     "data": {
      "text/html": [
       "<div>\n",
       "<style scoped>\n",
       "    .dataframe tbody tr th:only-of-type {\n",
       "        vertical-align: middle;\n",
       "    }\n",
       "\n",
       "    .dataframe tbody tr th {\n",
       "        vertical-align: top;\n",
       "    }\n",
       "\n",
       "    .dataframe thead th {\n",
       "        text-align: right;\n",
       "    }\n",
       "</style>\n",
       "<table border=\"1\" class=\"dataframe\">\n",
       "  <thead>\n",
       "    <tr style=\"text-align: right;\">\n",
       "      <th></th>\n",
       "      <th>score</th>\n",
       "      <th>reviewid</th>\n",
       "      <th>pub_year</th>\n",
       "      <th>year</th>\n",
       "    </tr>\n",
       "  </thead>\n",
       "  <tbody>\n",
       "    <tr>\n",
       "      <th>10559</th>\n",
       "      <td>8.6</td>\n",
       "      <td>14999</td>\n",
       "      <td>2011</td>\n",
       "      <td>2010.0</td>\n",
       "    </tr>\n",
       "    <tr>\n",
       "      <th>10560</th>\n",
       "      <td>7.4</td>\n",
       "      <td>15087</td>\n",
       "      <td>2011</td>\n",
       "      <td>2010.0</td>\n",
       "    </tr>\n",
       "    <tr>\n",
       "      <th>10561</th>\n",
       "      <td>7.9</td>\n",
       "      <td>15080</td>\n",
       "      <td>2011</td>\n",
       "      <td>2010.0</td>\n",
       "    </tr>\n",
       "    <tr>\n",
       "      <th>10562</th>\n",
       "      <td>6.0</td>\n",
       "      <td>15074</td>\n",
       "      <td>2011</td>\n",
       "      <td>2010.0</td>\n",
       "    </tr>\n",
       "    <tr>\n",
       "      <th>10563</th>\n",
       "      <td>7.2</td>\n",
       "      <td>13800</td>\n",
       "      <td>2010</td>\n",
       "      <td>2010.0</td>\n",
       "    </tr>\n",
       "  </tbody>\n",
       "</table>\n",
       "</div>"
      ],
      "text/plain": [
       "       score  reviewid  pub_year    year\n",
       "10559    8.6     14999      2011  2010.0\n",
       "10560    7.4     15087      2011  2010.0\n",
       "10561    7.9     15080      2011  2010.0\n",
       "10562    6.0     15074      2011  2010.0\n",
       "10563    7.2     13800      2010  2010.0"
      ]
     },
     "execution_count": 17,
     "metadata": {},
     "output_type": "execute_result"
    }
   ],
   "source": [
    "years = []\n",
    "for year in df['year'].unique():\n",
    "    years.append(df[df['year'] == year])\n",
    "    \n",
    "years[50].head()"
   ]
  },
  {
   "cell_type": "code",
   "execution_count": 18,
   "metadata": {},
   "outputs": [],
   "source": [
    "mean_scores_years = []\n",
    "for year in years:\n",
    "    mean_scores_years.append(year['score'].mean())"
   ]
  },
  {
   "cell_type": "markdown",
   "metadata": {},
   "source": [
    "### Has music gotten worse over time? "
   ]
  },
  {
   "cell_type": "code",
   "execution_count": 19,
   "metadata": {},
   "outputs": [
    {
     "data": {
      "image/png": "[encoded data removed]",
      "text/plain": [
       "<Figure size 576x432 with 1 Axes>"
      ]
     },
     "metadata": {
      "needs_background": "light"
     },
     "output_type": "display_data"
    }
   ],
   "source": [
    "years = list(map(float, df['year'].unique()))\n",
    "plt.figure(figsize=(8, 6))\n",
    "plt.ylim(0, 10)\n",
    "plt.plot(years, mean_scores_years);"
   ]
  },
  {
   "cell_type": "markdown",
   "metadata": {},
   "source": [
    "# Is there a statistically significant difference between the scores of albums in the jazz and metal genres?\n",
    "\n",
    "$H_o$: Jazz albums have the same average score as metal albums. \n",
    "\n",
    "$H_a$: Jazz albums do not have the same average score as metal albums.\n",
    "\n",
    "# Will the label with the most artists have the highest album scores?\n",
    "\n",
    "$H_o$: The label with the most artists signed will have the same average score as the label with the least artists signed.\n",
    "\n",
    "$H_a$: The label with the most artists signed will not have the same average score as the label with the least artists signed.\n",
    "\n",
    "# Is there a relationship between labels' genre diversity and labels' average score?\n",
    "\n",
    "$H_o$: The label with the most genre diversity will not have a higher average score than the label with the least genre diversity.\n",
    "\n",
    "$H_a$: The label with the most genre diversity will have a higher average score than the label with the least genre diversity.\n",
    "\n",
    "# Are the average album scores of 2000-2009 different from those of 2010-2017?\n",
    "\n",
    "$H_o$: Average song scores are the same in both periods.\n",
    "\n",
    "$H_a$: Average song scores have changed in the more recent period."
   ]
  },
  {
   "cell_type": "markdown",
   "metadata": {},
   "source": [
    "# Conclusions can be found in the README. Conclusions with detailed hypothesis testing can also be found in the four notebooks of these four respective questions."
   ]
  }
 ],
 "metadata": {
  "kernelspec": {
   "display_name": "Python 3",
   "language": "python",
   "name": "python3"
  },
  "language_info": {
   "codemirror_mode": {
    "name": "ipython",
    "version": 3
   },
   "file_extension": ".py",
   "mimetype": "text/x-python",
   "name": "python",
   "nbconvert_exporter": "python",
   "pygments_lexer": "ipython3",
   "version": "3.7.1"
  }
 },
 "nbformat": 4,
 "nbformat_minor": 2
}
