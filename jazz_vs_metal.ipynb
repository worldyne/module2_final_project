{
 "cells": [
  {
   "cell_type": "code",
   "execution_count": 1,
   "metadata": {},
   "outputs": [],
   "source": [
    "import psycopg2\n",
    "from sqlalchemy import create_engine\n",
    "import pandas as pd"
   ]
  },
  {
   "cell_type": "code",
   "execution_count": 2,
   "metadata": {},
   "outputs": [
    {
     "data": {
      "text/plain": [
       "['reviews', 'artists', 'genres', 'labels', 'years', 'content']"
      ]
     },
     "execution_count": 2,
     "metadata": {},
     "output_type": "execute_result"
    }
   ],
   "source": [
    "engine = create_engine('postgres:///music')\n",
    "conn = engine.connect()\n",
    "engine.table_names()"
   ]
  },
  {
   "cell_type": "code",
   "execution_count": 3,
   "metadata": {},
   "outputs": [],
   "source": [
    "def postgres_to_df(table_name):\n",
    "    result = conn.execute(f'SELECT * FROM {table_name}')\n",
    "    columns = [x for x in result.keys()]\n",
    "    df = pd.DataFrame(result.fetchall(), columns=columns)\n",
    "    return df"
   ]
  },
  {
   "cell_type": "code",
   "execution_count": 4,
   "metadata": {},
   "outputs": [
    {
     "data": {
      "text/plain": [
       "18393"
      ]
     },
     "execution_count": 4,
     "metadata": {},
     "output_type": "execute_result"
    }
   ],
   "source": [
    "reviews = postgres_to_df('reviews')\n",
    "len(reviews)"
   ]
  },
  {
   "cell_type": "code",
   "execution_count": 5,
   "metadata": {},
   "outputs": [],
   "source": [
    "query = \"\"\"\n",
    "SELECT\n",
    "    reviews.score,\n",
    "    reviews.reviewid,\n",
    "    genres.genre\n",
    "FROM\n",
    "    reviews\n",
    "FULL OUTER JOIN genres ON reviews.reviewid = genres.reviewid\n",
    "ORDER BY reviews.reviewid\n",
    "\"\"\"\n",
    "result = conn.execute(query)\n",
    "df = pd.DataFrame(result.fetchall(), columns=result.keys())"
   ]
  },
  {
   "cell_type": "code",
   "execution_count": 6,
   "metadata": {},
   "outputs": [
    {
     "name": "stdout",
     "output_type": "stream",
     "text": [
      "<class 'pandas.core.frame.DataFrame'>\n",
      "RangeIndex: 22690 entries, 0 to 22689\n",
      "Data columns (total 3 columns):\n",
      "score       22690 non-null float64\n",
      "reviewid    22690 non-null int64\n",
      "genre       20319 non-null object\n",
      "dtypes: float64(1), int64(1), object(1)\n",
      "memory usage: 531.9+ KB\n"
     ]
    }
   ],
   "source": [
    "df.info()"
   ]
  },
  {
   "cell_type": "code",
   "execution_count": 7,
   "metadata": {},
   "outputs": [
    {
     "name": "stdout",
     "output_type": "stream",
     "text": [
      "<class 'pandas.core.frame.DataFrame'>\n",
      "Int64Index: 20319 entries, 0 to 22689\n",
      "Data columns (total 3 columns):\n",
      "score       20319 non-null float64\n",
      "reviewid    20319 non-null int64\n",
      "genre       20319 non-null object\n",
      "dtypes: float64(1), int64(1), object(1)\n",
      "memory usage: 635.0+ KB\n"
     ]
    }
   ],
   "source": [
    "df.dropna(inplace=True)\n",
    "df.info()"
   ]
  },
  {
   "cell_type": "code",
   "execution_count": 8,
   "metadata": {},
   "outputs": [
    {
     "data": {
      "text/plain": [
       "(20319, 862, 435)"
      ]
     },
     "execution_count": 8,
     "metadata": {},
     "output_type": "execute_result"
    }
   ],
   "source": [
    "metal = df[df['genre'] == 'metal']\n",
    "jazz = df[df['genre'] == 'jazz']\n",
    "len(df), len(metal), len(jazz)"
   ]
  },
  {
   "cell_type": "code",
   "execution_count": 9,
   "metadata": {},
   "outputs": [
    {
     "data": {
      "text/plain": [
       "(6.949999999999989, 7.303908045977008)"
      ]
     },
     "execution_count": 9,
     "metadata": {},
     "output_type": "execute_result"
    }
   ],
   "source": [
    "metal['score'].mean(), jazz['score'].mean()"
   ]
  },
  {
   "cell_type": "code",
   "execution_count": 10,
   "metadata": {},
   "outputs": [
    {
     "name": "stdout",
     "output_type": "stream",
     "text": [
      "Genre: rock\n",
      "Score: 6.942011019283791\n",
      "\n",
      "Genre: electronic\n",
      "Score: 6.92070211667529\n",
      "\n",
      "Genre: jazz\n",
      "Score: 7.303908045977008\n",
      "\n",
      "Genre: metal\n",
      "Score: 6.949999999999989\n",
      "\n",
      "Genre: rap\n",
      "Score: 6.900513149454774\n",
      "\n",
      "Genre: experimental\n",
      "Score: 7.336694214876028\n",
      "\n",
      "Genre: pop/r&b\n",
      "Score: 6.883798882681565\n",
      "\n",
      "Genre: global\n",
      "Score: 7.429680365296805\n",
      "\n",
      "Genre: folk/country\n",
      "Score: 7.202189781021892\n",
      "\n"
     ]
    }
   ],
   "source": [
    "for genre in df['genre'].unique():\n",
    "    score = df[df['genre'] == genre]['score'].mean()\n",
    "    print(f'Genre: {genre}')\n",
    "    print(f'Score: {score}\\n')"
   ]
  },
  {
   "cell_type": "code",
   "execution_count": null,
   "metadata": {},
   "outputs": [],
   "source": []
  }
 ],
 "metadata": {
  "kernelspec": {
   "display_name": "Python 3",
   "language": "python",
   "name": "python3"
  },
  "language_info": {
   "codemirror_mode": {
    "name": "ipython",
    "version": 3
   },
   "file_extension": ".py",
   "mimetype": "text/x-python",
   "name": "python",
   "nbconvert_exporter": "python",
   "pygments_lexer": "ipython3",
   "version": "3.7.1"
  }
 },
 "nbformat": 4,
 "nbformat_minor": 2
}
